{
  "nbformat": 4,
  "nbformat_minor": 0,
  "metadata": {
    "colab": {
      "provenance": [],
      "include_colab_link": true
    },
    "kernelspec": {
      "name": "python3",
      "display_name": "Python 3"
    },
    "language_info": {
      "name": "python"
    }
  },
  "cells": [
    {
      "cell_type": "markdown",
      "metadata": {
        "id": "view-in-github",
        "colab_type": "text"
      },
      "source": [
        "<a href=\"https://colab.research.google.com/github/mingyanacc1/NUSISS-DevOpsEng/blob/master/colab/myBEADworkshop.ipynb\" target=\"_parent\"><img src=\"https://colab.research.google.com/assets/colab-badge.svg\" alt=\"Open In Colab\"/></a>"
      ]
    },
    {
      "cell_type": "code",
      "source": [
        "!pip install --ignore-install -q pyspark\n",
        "!pip install --ignore-install -q findspark"
      ],
      "metadata": {
        "id": "NlfLxtCFec_8"
      },
      "execution_count": null,
      "outputs": []
    },
    {
      "cell_type": "code",
      "source": [
        "from google.colab import drive\n",
        "drive.mount('/content/drive', force_remount=True)"
      ],
      "metadata": {
        "id": "8OXHBiywec14"
      },
      "execution_count": null,
      "outputs": []
    },
    {
      "cell_type": "code",
      "source": [
        "#10\n",
        "\n",
        "inputFilePath = \"/content/drive/My Drive/BEAD_DATA/BEAD_Rebu_TripData.csv\"\n",
        "\n",
        "df = ( spark.read\n",
        "            .option(\"header\", \"true\")\n",
        "            .option(\"inferSchema\", \"true\")\n",
        "            .csv(inputFilePath) )\n",
        "\n",
        "spark = SparkSession.builder.appName(\"Integer to DataFrame and Cross Join\").getOrCreate()\n",
        "\n",
        "weekend_trips = df.where((col(\"Day\") == \"Sat\") | (col(\"Day\") == \"Sun\")).agg(count(\"*\").alias(\"weekend_trips\")).collect()[0][0] / 2\n",
        "weekday_trips = df.where((col(\"Day\") != \"Sat\") & (col(\"Day\") != \"Sun\")).agg(count(\"*\").alias(\"weekday_trips\")).collect()[0][0] / 5\n",
        "\n",
        "weekend_trips_df = spark.createDataFrame([Row(Number_of_trips_per_day_on_weekends=weekend_trips)])\n",
        "weekday_trips_df = spark.createDataFrame([Row(Number_of_trips_per_day_on_weekdays=weekday_trips)])\n",
        "\n",
        "grouped_df = weekday_trips_df.crossJoin(weekend_trips_df)\n",
        "\n",
        "grouped_df.show()"
      ],
      "metadata": {
        "id": "ubsvHrRpecqQ"
      },
      "execution_count": null,
      "outputs": []
    }
  ]
}