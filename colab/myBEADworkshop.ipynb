{
  "nbformat": 4,
  "nbformat_minor": 0,
  "metadata": {
    "colab": {
      "provenance": [],
      "include_colab_link": true
    },
    "kernelspec": {
      "name": "python3",
      "display_name": "Python 3"
    },
    "language_info": {
      "name": "python"
    }
  },
  "cells": [
    {
      "cell_type": "markdown",
      "metadata": {
        "id": "view-in-github",
        "colab_type": "text"
      },
      "source": [
        "<a href=\"https://colab.research.google.com/github/mingyanacc1/NUSISS-DevOpsEng/blob/master/colab/myBEADworkshop.ipynb\" target=\"_parent\"><img src=\"https://colab.research.google.com/assets/colab-badge.svg\" alt=\"Open In Colab\"/></a>"
      ]
    },
    {
      "cell_type": "code",
      "source": [
        "inputFilePath = \"/content/drive/My Drive/BEAD_DATA/BEAD_Rebu_TripData.csv\"\n",
        "\n",
        "df = ( spark.read\n",
        "            .option(\"header\", \"true\")\n",
        "            .option(\"inferSchema\", \"true\")\n",
        "            .csv(inputFilePath) )\n",
        "\n",
        "january_2024_trips = df.where(df[\"Date\"].like(\"%Jan%\"))\n",
        "\n",
        "weekend_trips = january_2024_trips.where((col(\"Day\") == \"Sat\") | (col(\"Day\") == \"Sun\")).agg(count(\"*\").alias(\"weekend_trips\"))\n",
        "weekday_trips = january_2024_trips.where((col(\"Day\") != \"Sat\") & (col(\"Day\") != \"Sun\")).agg(count(\"*\").alias(\"weekday_trips\"))\n",
        "\n",
        "grouped_df = weekday_trips.crossJoin(weekend_trips)\n",
        "\n",
        "grouped_df.show()\n"
      ],
      "metadata": {
        "id": "7OhqjTScJzMW",
        "outputId": "12db61cb-e6e1-4fe9-902d-978f3a8bed50",
        "colab": {
          "base_uri": "https://localhost:8080/",
          "height": 211
        }
      },
      "execution_count": 2,
      "outputs": [
        {
          "output_type": "error",
          "ename": "NameError",
          "evalue": "name 'spark' is not defined",
          "traceback": [
            "\u001b[0;31m---------------------------------------------------------------------------\u001b[0m",
            "\u001b[0;31mNameError\u001b[0m                                 Traceback (most recent call last)",
            "\u001b[0;32m<ipython-input-2-2d86bfa9bed1>\u001b[0m in \u001b[0;36m<cell line: 3>\u001b[0;34m()\u001b[0m\n\u001b[1;32m      1\u001b[0m \u001b[0minputFilePath\u001b[0m \u001b[0;34m=\u001b[0m \u001b[0;34m\"/content/drive/My Drive/BEAD_DATA/BEAD_Rebu_TripData.csv\"\u001b[0m\u001b[0;34m\u001b[0m\u001b[0;34m\u001b[0m\u001b[0m\n\u001b[1;32m      2\u001b[0m \u001b[0;34m\u001b[0m\u001b[0m\n\u001b[0;32m----> 3\u001b[0;31m df = ( spark.read\n\u001b[0m\u001b[1;32m      4\u001b[0m             \u001b[0;34m.\u001b[0m\u001b[0moption\u001b[0m\u001b[0;34m(\u001b[0m\u001b[0;34m\"header\"\u001b[0m\u001b[0;34m,\u001b[0m \u001b[0;34m\"true\"\u001b[0m\u001b[0;34m)\u001b[0m\u001b[0;34m\u001b[0m\u001b[0;34m\u001b[0m\u001b[0m\n\u001b[1;32m      5\u001b[0m             \u001b[0;34m.\u001b[0m\u001b[0moption\u001b[0m\u001b[0;34m(\u001b[0m\u001b[0;34m\"inferSchema\"\u001b[0m\u001b[0;34m,\u001b[0m \u001b[0;34m\"true\"\u001b[0m\u001b[0;34m)\u001b[0m\u001b[0;34m\u001b[0m\u001b[0;34m\u001b[0m\u001b[0m\n",
            "\u001b[0;31mNameError\u001b[0m: name 'spark' is not defined"
          ]
        }
      ]
    }
  ]
}